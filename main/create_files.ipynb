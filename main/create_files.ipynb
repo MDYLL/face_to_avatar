{
 "cells": [
  {
   "cell_type": "code",
   "execution_count": 7,
   "metadata": {},
   "outputs": [],
   "source": [
    "import numpy as np\n",
    "import random\n",
    "def random_value(a,b):\n",
    "    value=np.random.normal(a,b)\n",
    "    value_str=str(round(value,6))+'\\n'\n",
    "    return value_str"
   ]
  },
  {
   "cell_type": "code",
   "execution_count": 50,
   "metadata": {},
   "outputs": [],
   "source": [
    "with open('C:\\\\Users\\\\User\\\\itseez3d\\\\test\\\\test_default_wo_neck.mhm','r') as file:\n",
    "    a='0'\n",
    "    while(a[:8]!='modifier'):\n",
    "        a=file.readline()\n",
    "    features=[]\n",
    "    while(a[:8]=='modifier'):\n",
    "        s=a.split()\n",
    "        features.append(s[0]+' '+s[1]+' ')\n",
    "        a=file.readline()\n",
    "features.sort()"
   ]
  },
  {
   "cell_type": "code",
   "execution_count": 51,
   "metadata": {},
   "outputs": [],
   "source": [
    "def make_file(i=0,default_name='C:\\\\makehuman\\\\dataset224\\\\test'):\n",
    "    file_name=default_name+str(i)+'.mhm'\n",
    "    with open(file_name,'w') as file:\n",
    "        file.write('# Written by MakeHuman 1.1.1\\n')\n",
    "        file.write('version v1.1.1\\n')\n",
    "        file.write('tags '+file_name[:-4]+'\\n')\n",
    "        file.write('camera 0.0 0.0 0.0701539902873 0.946820604031 -0.047280289112 2.50\\n')\n",
    "\n",
    "        for feature in features:\n",
    "            if 'macrodetails-height/Height' in feature:\n",
    "                file.write(feature+'1.000000'+'\\n')\n",
    "                continue\n",
    "            if 'macrodetails/Age' in feature:\n",
    "                file.write(feature+str(random.uniform(0.4,1))+'\\n')\n",
    "                continue\n",
    "            if 'macrodetails/Gender' in feature:\n",
    "                file.write(feature+str(random.uniform(0,1))+'\\n')\n",
    "            if 'l-' in feature:\n",
    "                value_left=round(np.random.normal(0,0.3),6)\n",
    "                value_right=round(value_left+random.uniform(-0.03,0.03),6)\n",
    "                feature_right=feature.replace('l-','r-')\n",
    "                file.write(feature+str(value_left)+'\\n')\n",
    "                file.write(feature_right+str(value_right)+'\\n')\n",
    "                continue\n",
    "            if 'r-' in feature:\n",
    "                continue\n",
    "            if '|' in feature:\n",
    "                file.write(feature+random_value(0,0.3))\n",
    "            else:\n",
    "                file.write(feature+random_value(0.5,0.2))\n",
    "        file.write('eyes HighPolyEyes 2c12f43b-1303-432c-b7ce-d78346baf2e6\\n')\n",
    "        file.write('clothesHideFaces True\\n')\n",
    "        file.write('skinMaterial skins/default.mhmat\\n')\n",
    "        file.write('material HighPolyEyes 2c12f43b-1303-432c-b7ce-d78346baf2e6 eyes/materials/brown.mhmat\\n')\n",
    "        file.write('subdivide False\\n')\n",
    "        \n",
    "        "
   ]
  },
  {
   "cell_type": "code",
   "execution_count": 53,
   "metadata": {},
   "outputs": [],
   "source": [
    "for i in range(7500,8500):\n",
    "    make_file(i=i)"
   ]
  },
  {
   "cell_type": "markdown",
   "metadata": {},
   "source": [
    "## powershell"
   ]
  },
  {
   "cell_type": "code",
   "execution_count": 63,
   "metadata": {},
   "outputs": [],
   "source": [
    "import shutil\n",
    "from PIL import Image\n",
    "NUM_OF_SAMPLE=8500\n",
    "for i in range(NUM_OF_SAMPLE):\n",
    "    file_input='C:\\\\makehuman\\\\dataset224\\\\screenshot'+str(i)+'.jpg'\n",
    "    file_output='C:\\\\Users\\\\User\\\\itseez3d\\\\face_to_avatar\\\\main\\\\dataset224_2\\\\image'+str(i)+'.jpg'\n",
    "    mhm_file_input='C:\\\\makehuman\\\\dataset224\\\\test'+str(i)+'.mhm'\n",
    "    mhm_file_output='C:\\\\Users\\\\User\\\\itseez3d\\\\face_to_avatar\\\\main\\\\dataset224_2\\\\test'+str(i)+'.mhm'\n",
    "    shutil.copy(mhm_file_input,mhm_file_output)\n",
    "    img = Image.open(file_input)\n",
    "    img1=img.crop((840,162,1096,418))\n",
    "    img1.convert(\"RGB\").save(file_output)"
   ]
  },
  {
   "cell_type": "markdown",
   "metadata": {},
   "source": [
    "## create mhm-file"
   ]
  },
  {
   "cell_type": "code",
   "execution_count": 98,
   "metadata": {},
   "outputs": [],
   "source": [
    "features_mhm=[3.89120043e-01 ,3.91345596e-01 ,4.02817241e-01 ,6.39701896e-02\n",
    " ,-1.72176369e-01 ,-2.74388195e-01 ,-5.21188570e-02 ,-3.35743165e-02\n",
    " ,-7.66247037e-04 ,1.20389218e-01 ,1.58983232e-01 ,-3.43192634e-01\n",
    " ,7.43940774e-02 ,1.75198643e-01 ,8.37138706e-02 ,-1.18501869e-01\n",
    " ,2.22979567e-01 ,-8.70888258e-02 ,-3.07709087e-01 ,-9.66755870e-02\n",
    " ,-1.63618059e-02 ,9.43117541e-02 ,-1.33687442e-01 ,6.82723656e-02\n",
    " ,-4.18113498e-01 ,2.69399856e-01 ,2.98107003e-02 ,-1.60137849e-01\n",
    " ,2.85815933e-01 ,4.56106812e-02 ,9.89101897e-02 ,-2.92454737e-01\n",
    " ,-1.00395358e-01 ,-1.72730762e-02 ,8.34267027e-02 ,-1.67064758e-01\n",
    " ,1.24600635e-01 ,-1.83826513e-01 ,3.72350464e-01 ,-1.74149521e-03\n",
    " ,1.68156611e-01 ,4.14200570e-04 ,2.32507167e-02 ,1.43791122e-01\n",
    " ,-2.27417404e-01 ,-8.05513641e-02 ,-4.23482169e-01 ,-9.13056673e-02\n",
    " ,-5.53896636e-01 ,-2.95904095e-01 ,6.12354391e-02 ,-2.34151475e-01\n",
    " ,-1.70456345e-01 ,3.24945943e-01 ,3.18928355e-01 ,-4.03726882e-01\n",
    " ,1.63943332e-02 ,-1.16474319e-01 ,-1.55465896e-01 ,-1.15857388e-01\n",
    " ,4.85496631e-01 ,2.35854939e-01 ,-4.41589044e-02 ,-2.30309787e-01\n",
    " ,-8.99584086e-02 ,-2.29126593e-01 ,-4.40184420e-01 ,1.11900782e-01\n",
    " ,-1.62738271e-01 ,2.78818068e-01 ,-3.51158013e-01 ,4.76030223e-02\n",
    " ,3.36541626e-01 ,-1.90620979e-01 ,-1.11502488e-01 ,2.43750004e-01\n",
    " ,-1.15675938e-01 ,-1.92579827e-01 ,2.08988636e-01 ,4.10281101e-01\n",
    " ,-1.80827697e-01 ,-1.39485978e-01 ,-3.23590306e-01 ,3.48857144e-01\n",
    " ,-9.61761292e-02 ,4.59876902e-01 ,4.42086188e-01 ,6.34992277e-01\n",
    " ,6.07030759e-01 ,1.02138186e-01 ,1.46788250e-01 ,-8.06224673e-02\n",
    " ,5.65778111e-01 ,-3.62747196e-01 ,-4.83317883e-01 ,4.33285852e-01\n",
    " ,3.92872410e-01 ,1.00000000e+00 ,3.58677920e-01 ,5.79914777e-01\n",
    " ,4.55513997e-01 ,5.04180220e-01 ,6.61717724e-01 ,5.33869939e-01\n",
    " ,4.12242709e-01 ,3.26302564e-01 ,4.52070064e-01 ,-1.27927688e-01\n",
    " ,5.39115891e-02 ,-1.27536396e-01 ,3.33638222e-01 ,1.52456477e-01\n",
    " ,-9.00215462e-02 ,-2.83353705e-01 ,1.72072114e-01 ,1.51140025e-01\n",
    " ,2.80059590e-01 ,-1.68247007e-01 ,1.42733002e-01 ,1.43291357e-01\n",
    " ,2.30443810e-01 ,1.16399902e-02 ,-1.61098057e-02 ,-1.28123791e-01\n",
    " ,3.53322830e-01 ,1.14267868e-01 ,3.43003039e-01 ,5.90663874e-02\n",
    " ,-2.26329043e-01 ,-3.34452553e-01 ,-1.31264841e-01 ,-1.18813169e-01\n",
    " ,-2.01884620e-01 ,1.52139198e-01 ,1.12588866e-01 ,-2.71190973e-02\n",
    " ,5.41055987e-02 ,3.83980947e-02 ,-4.38582965e-02 ,1.93598790e-01\n",
    " ,-2.05877250e-01 ,-2.10498186e-01 ,-3.60000686e-02 ,6.38776156e-02\n",
    " ,-1.11168489e-01 ,1.86111646e-01 ,3.88204060e-01 ,-7.61067372e-02\n",
    " ,-8.58118819e-03 ,-2.03701017e-01 ,2.24286103e-01 ,1.87860904e-01]\n",
    "\n"
   ]
  },
  {
   "cell_type": "code",
   "execution_count": 99,
   "metadata": {},
   "outputs": [],
   "source": [
    "with open('C:\\\\makehuman\\\\dataset224\\\\test0.mhm','r') as file:\n",
    "    with open ('test_created3.mhm','w') as file_output:\n",
    "        file_output.write('# Written by MakeHuman 1.1.1\\n')\n",
    "        file_output.write('version v1.1.1\\n')\n",
    "        file_output.write('tags test_created3\\n')\n",
    "        file_output.write('camera 0.0 0.0 0.0701539902873 0.946820604031 -0.047280289112 2.50\\n')\n",
    "        a='0'\n",
    "        while(a[:8]!='modifier'):\n",
    "            a=file.readline()\n",
    "        idx=0\n",
    "        while(a[:8]=='modifier'):\n",
    "            s=a.split()\n",
    "            file_output.write(s[0]+' '+s[1]+' '+str(features[idx])+'\\n')\n",
    "            a=file.readline()\n",
    "            idx+=1\n",
    "        file_output.write('eyes HighPolyEyes 2c12f43b-1303-432c-b7ce-d78346baf2e6\\n')\n",
    "        file_output.write('clothesHideFaces True\\n')\n",
    "        file_output.write('skinMaterial skins/default.mhmat\\n')\n",
    "        file_output.write('material HighPolyEyes 2c12f43b-1303-432c-b7ce-d78346baf2e6 eyes/materials/brown.mhmat\\n')\n",
    "        file_output.write('subdivide False\\n')"
   ]
  },
  {
   "cell_type": "code",
   "execution_count": 100,
   "metadata": {},
   "outputs": [
    {
     "data": {
      "text/plain": [
       "'modifier breast/BreastFirmness '"
      ]
     },
     "execution_count": 100,
     "metadata": {},
     "output_type": "execute_result"
    }
   ],
   "source": [
    "str(features[0])"
   ]
  },
  {
   "cell_type": "code",
   "execution_count": 101,
   "metadata": {},
   "outputs": [
    {
     "data": {
      "text/plain": [
       "list"
      ]
     },
     "execution_count": 101,
     "metadata": {},
     "output_type": "execute_result"
    }
   ],
   "source": [
    "type(features)"
   ]
  },
  {
   "cell_type": "code",
   "execution_count": 102,
   "metadata": {},
   "outputs": [
    {
     "data": {
      "text/plain": [
       "152"
      ]
     },
     "execution_count": 102,
     "metadata": {},
     "output_type": "execute_result"
    }
   ],
   "source": [
    "len(features)"
   ]
  },
  {
   "cell_type": "code",
   "execution_count": 103,
   "metadata": {},
   "outputs": [
    {
     "name": "stdout",
     "output_type": "stream",
     "text": [
      " Том в устройстве C имеет метку Windows 10\n",
      " Серийный номер тома: 26B0-7DC5\n",
      "\n",
      " Содержимое папки C:\\Users\\User\\Itseez3d\\face_to_avatar\n",
      "\n",
      "08.04.2020  11:39    <DIR>          .\n",
      "08.04.2020  11:39    <DIR>          ..\n",
      "05.04.2020  20:58             9 988 .ipynb\n",
      "05.04.2020  19:49    <DIR>          .ipynb_checkpoints\n",
      "30.03.2020  02:15            45 657 1.png\n",
      "06.04.2020  13:22             9 322 create_files.ipynb\n",
      "22.03.2020  23:02             3 504 create_files-checkpoint.ipynb\n",
      "03.04.2020  12:36    <DIR>          dataset224\n",
      "06.04.2020  17:21    <DIR>          helen_dataset\n",
      "24.03.2009  13:25            76 470 i606ya-fn.jpg\n",
      "08.04.2020  11:54    <DIR>          main\n",
      "03.04.2020  13:00         1 461 619 main.ipynb\n",
      "22.03.2020  21:44            57 021 main-checkpoint.ipynb\n",
      "26.03.2020  23:21                16 README.md\n",
      "05.04.2020  20:56             8 211 test_created.mhm\n",
      "05.04.2020  22:38             8 016 test_created1.mhm\n",
      "07.04.2020  10:38             8 012 test_created2.mhm\n",
      "08.04.2020  12:02            12 227 test_created3.mhm\n",
      "22.03.2020  18:41             7 917 test_default.mhm\n",
      "24.03.2020  12:57             7 432 test_default_wo_neck.mhm\n",
      "31.03.2020  11:50            38 339 test_model.ipynb\n",
      "27.03.2020  21:27                72 Untitled.ipynb\n",
      "31.03.2020  17:31                72 Untitled1.ipynb\n",
      "02.04.2020  10:24               555 Untitled2.ipynb\n",
      "              18 файлов      1 754 450 байт\n",
      "               6 папок     603 656 192 байт свободно\n"
     ]
    }
   ],
   "source": [
    "ls"
   ]
  },
  {
   "cell_type": "code",
   "execution_count": null,
   "metadata": {},
   "outputs": [],
   "source": []
  },
  {
   "cell_type": "code",
   "execution_count": null,
   "metadata": {},
   "outputs": [],
   "source": []
  },
  {
   "cell_type": "code",
   "execution_count": null,
   "metadata": {},
   "outputs": [],
   "source": []
  },
  {
   "cell_type": "code",
   "execution_count": null,
   "metadata": {},
   "outputs": [],
   "source": []
  },
  {
   "cell_type": "code",
   "execution_count": null,
   "metadata": {},
   "outputs": [],
   "source": []
  },
  {
   "cell_type": "code",
   "execution_count": null,
   "metadata": {},
   "outputs": [],
   "source": []
  },
  {
   "cell_type": "code",
   "execution_count": null,
   "metadata": {},
   "outputs": [],
   "source": []
  },
  {
   "cell_type": "code",
   "execution_count": 104,
   "metadata": {},
   "outputs": [
    {
     "name": "stdout",
     "output_type": "stream",
     "text": [
      "[0, 1, 83, 85, 86, 87, 88, 92, 96, 98, 99, 100, 101, 102, 103, 104, 105, 106]\n",
      "[97]\n"
     ]
    }
   ],
   "source": [
    "import numpy as np\n",
    "\n",
    "NUM_OF_SAMPLE = 10\n",
    "from keras.preprocessing.image import load_img\n",
    "from keras.preprocessing.image import img_to_array,array_to_img\n",
    "import keras.backend as K\n",
    "import tensorflow as tf\n",
    "\n",
    "img = load_img('./main/dataset224_2/image0.jpg')\n",
    "img_array = img_to_array(img)\n",
    "\n",
    "y = np.zeros((NUM_OF_SAMPLE, *img_array.shape))\n",
    "for i in range(NUM_OF_SAMPLE):\n",
    "    filename = './main/dataset224_2/image' + str(i) + '.jpg'\n",
    "    img = load_img(filename)\n",
    "    img_array = img_to_array(img)\n",
    "    y[i] = img_array / 255 - 0.5\n",
    "\n",
    "features = []\n",
    "with open('./main/dataset224_2/test0.mhm', 'r') as file:\n",
    "    a = '0'\n",
    "    while (a[:8] != 'modifier'):\n",
    "        a = file.readline()\n",
    "    while (a[:8] == 'modifier'):\n",
    "        s = a.split()\n",
    "        features.append(s[0] + ' ' + s[1] + ' ')\n",
    "        a = file.readline()\n",
    "num_features = len(features)\n",
    "zero_features=[]\n",
    "ones_feature=[]\n",
    "for i in range(1):\n",
    "    filename = './main/dataset224_2/test' + str(i) + '.mhm'\n",
    "    with open(filename, 'r') as file:\n",
    "        while (a[:8] != 'modifier'):\n",
    "            a = file.readline()\n",
    "        feature_idx = 0\n",
    "        while (a[:8] == 'modifier'):\n",
    "            s = a.split()\n",
    "            if s[-2]=='macrodetails-height/Height':\n",
    "                ones_feature.append(feature_idx)\n",
    "            elif '|' not in s[-2]:\n",
    "                zero_features.append(feature_idx)\n",
    "            feature_idx += 1\n",
    "            a = file.readline()\n",
    "print(zero_features)\n",
    "print(ones_feature)\n",
    "\n",
    "X = np.zeros((NUM_OF_SAMPLE, num_features))\n",
    "for i in range(NUM_OF_SAMPLE):\n",
    "    filename = './main/dataset224_2/test' + str(i) + '.mhm'\n",
    "    with open(filename, 'r') as file:\n",
    "        while (a[:8] != 'modifier'):\n",
    "            a = file.readline()\n",
    "        feature_idx = 0\n",
    "        while (a[:8] == 'modifier'):\n",
    "            s = a.split()\n",
    "            if '|' not in s[-2]:\n",
    "                X[i][feature_idx] = float(s[-1]) * 2 - 1\n",
    "            else:\n",
    "                X[i][feature_idx] = float(s[-1])\n",
    "            X[i][feature_idx] = float(s[-1])\n",
    "            feature_idx += 1\n",
    "            a = file.readline()\n",
    "\n",
    "from keras.models import Sequential\n",
    "from keras.layers import Conv2D, Dense, Activation, Reshape, UpSampling2D, BatchNormalization\n",
    "\n",
    "from keras.layers import LeakyReLU\n",
    "\n",
    "\n",
    "def make_model():\n",
    "    model = Sequential()\n",
    "    model.add(Dense(256 * 4 * 4, input_dim=152, use_bias=False))\n",
    "    model.add(LeakyReLU(alpha=0.02))\n",
    "    model.add(Reshape((4, 4, 256)))\n",
    "    model.add(UpSampling2D())\n",
    "    model.add(Conv2D(256, kernel_size=4, padding=\"same\"))\n",
    "    model.add(BatchNormalization(momentum=0.8, trainable=False))\n",
    "    model.add(LeakyReLU(alpha=0.02))\n",
    "    model.add(UpSampling2D())\n",
    "    model.add(Conv2D(256, kernel_size=4, padding=\"same\"))\n",
    "    model.add(BatchNormalization(momentum=0.8, trainable=False))\n",
    "    model.add(LeakyReLU(alpha=0.02))\n",
    "    model.add(UpSampling2D())\n",
    "    model.add(Conv2D(128, kernel_size=4, padding=\"same\"))\n",
    "    model.add(BatchNormalization(momentum=0.8, trainable=False))\n",
    "    model.add(LeakyReLU(alpha=0.02))\n",
    "    model.add(UpSampling2D())\n",
    "    model.add(Conv2D(64, kernel_size=4, padding=\"same\"))\n",
    "    model.add(BatchNormalization(momentum=0.8, trainable=False))\n",
    "    model.add(LeakyReLU(alpha=0.02))\n",
    "    model.add(UpSampling2D())\n",
    "    model.add(Conv2D(32, kernel_size=4, padding=\"same\"))\n",
    "    model.add(BatchNormalization(momentum=0.8, trainable=False))\n",
    "    model.add(LeakyReLU(alpha=0.02))\n",
    "    model.add(UpSampling2D())\n",
    "    model.add(Conv2D(3, kernel_size=4, padding=\"same\"))\n",
    "    model.add(Activation(\"tanh\"))\n",
    "\n",
    "    return model\n",
    "\n",
    "\n",
    "model = make_model()\n",
    "model.load_weights('./main/model_224_2_00001700.hdf5')\n",
    "\n",
    "from keras.layers import Layer\n",
    "\n",
    "\n",
    "class Reshape_Layer(Layer):\n",
    "    def __init__(self, output_dim, **kwargs):\n",
    "        self.output_dim = output_dim\n",
    "        super(Reshape_Layer, self).__init__(**kwargs)\n",
    "\n",
    "    def build(self, input_shape):\n",
    "        # Create a trainable weight variable for this layer.\n",
    "        self.kernel = self.add_weight(name='kernel',\n",
    "                                      shape=(0, 0),\n",
    "                                      initializer='uniform',\n",
    "                                      trainable=False)\n",
    "        super(Reshape_Layer, self).build(input_shape)\n",
    "\n",
    "    def call(self, x):\n",
    "        return x[:, 16:240, 16:240, :]\n",
    "\n",
    "    def compute_output_shape(self, input_shape):\n",
    "        return (input_shape[0], 224, 224, 3)\n",
    "\n",
    "\n",
    "from keras_vggface.vggface import VGGFace\n",
    "\n",
    "model_VGG = VGGFace(model='senet50')\n",
    "model_F1 = Sequential()\n",
    "\n",
    "model_F1.add(model)\n",
    "model_F1.add(Reshape_Layer((224, 224, 3)))\n",
    "model_F1.add(model_VGG)\n",
    "model_true = Sequential()\n",
    "model_true.add(Reshape((256, 256, 3), input_shape=(256, 256, 3)))\n",
    "model_true.add(Reshape_Layer((224, 224, 3)))\n",
    "model_true.add(model_VGG)\n",
    "\n",
    "y_true = model_F1.predict(X)\n",
    "y_true = y_true[1]\n",
    "\n",
    "model_F1_predict = Sequential()\n",
    "model_F1_predict.add(Dense(152, use_bias=False, input_dim=1))\n",
    "model_F1_predict.add(model_F1)\n",
    "\n"
   ]
  },
  {
   "cell_type": "code",
   "execution_count": 105,
   "metadata": {},
   "outputs": [],
   "source": [
    "x=np.array(features_mhm)\n",
    "x = x.reshape((1, 152))\n",
    "l = []\n",
    "l.append(x)\n",
    "model_F1_predict.layers[0].set_weights(l)\n"
   ]
  },
  {
   "cell_type": "code",
   "execution_count": 106,
   "metadata": {},
   "outputs": [],
   "source": [
    "z=model_F1_predict.predict([[1.]])"
   ]
  },
  {
   "cell_type": "code",
   "execution_count": 108,
   "metadata": {},
   "outputs": [],
   "source": [
    "(array_to_img((z[0]+0.5)*255)).show()"
   ]
  },
  {
   "cell_type": "code",
   "execution_count": 109,
   "metadata": {},
   "outputs": [],
   "source": [
    "(array_to_img((y_true+0.5)*255)).show()"
   ]
  },
  {
   "cell_type": "code",
   "execution_count": null,
   "metadata": {},
   "outputs": [],
   "source": []
  }
 ],
 "metadata": {
  "kernelspec": {
   "display_name": "Python 3",
   "language": "python",
   "name": "python3"
  },
  "language_info": {
   "codemirror_mode": {
    "name": "ipython",
    "version": 3
   },
   "file_extension": ".py",
   "mimetype": "text/x-python",
   "name": "python",
   "nbconvert_exporter": "python",
   "pygments_lexer": "ipython3",
   "version": "3.7.5"
  }
 },
 "nbformat": 4,
 "nbformat_minor": 2
}
