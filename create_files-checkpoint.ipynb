{
 "cells": [
  {
   "cell_type": "code",
   "execution_count": 52,
   "metadata": {},
   "outputs": [],
   "source": [
    "import random\n",
    "def random_value(a,b):\n",
    "    value=random.uniform(-1,1)\n",
    "    value_str=str(round(value,6))+'\\n'\n",
    "    return value_str"
   ]
  },
  {
   "cell_type": "code",
   "execution_count": 54,
   "metadata": {},
   "outputs": [
    {
     "name": "stdout",
     "output_type": "stream",
     "text": [
      "# Written by MakeHuman 1.1.1\n",
      "version v1.1.1\n",
      "tags test0\n",
      "camera 0.0 0.0 0.0 0.0 0.0 1.1625\n",
      "modifier nose/nose-flaring-decr|incr -0.0767169646480721\n",
      "\n",
      "\n",
      "\n",
      "\n",
      "\n",
      "\n",
      "\n",
      "\n",
      "\n",
      "\n"
     ]
    }
   ],
   "source": [
    "with open('test.mhm','r') as file:\n",
    "    for i in range(10):\n",
    "        a=file.read()\n",
    "        print(a)"
   ]
  },
  {
   "cell_type": "code",
   "execution_count": 49,
   "metadata": {},
   "outputs": [],
   "source": [
    "import random\n",
    "def make_file(i=0,default_name='test'):\n",
    "    file_name=default_name+str(i)+'.mhm'\n",
    "    with open(file_name,'w') as file:\n",
    "        file.write('# Written by MakeHuman 1.1.1\\n')\n",
    "        file.write('version v1.1.1\\n')\n",
    "        file.write('tags '+file_name[:-4]+'\\n')\n",
    "        file.write('camera 0.0 0.0 0.0 0.0 0.0 1.1625\\n')\n",
    "        file.write('modifier nose/nose-flaring-decr|incr '+random_value(-1,1))\n",
    "        file.write('modifier mouth/mouth-dimples-in|out '+random_value(-1,1))\n",
    "        file.write('modifier mouth/mouth-dimples-in|out '+random_value(-1,1))\n",
    "        file.write('modifier mouth/mouth-dimples-in|out '+random_value(-1,1))\n",
    "        file.write('modifier mouth/mouth-dimples-in|out '+random_value(-1,1))\n",
    "        file.write('modifier mouth/mouth-dimples-in|out '+random_value(-1,1))\n",
    "        file.write('modifier mouth/mouth-dimples-in|out '+random_value(-1,1))\n",
    "        file.write('modifier mouth/mouth-dimples-in|out '+random_value(-1,1))\n",
    "        \n",
    "        "
   ]
  },
  {
   "cell_type": "code",
   "execution_count": 50,
   "metadata": {},
   "outputs": [
    {
     "data": {
      "text/plain": [
       "'3'"
      ]
     },
     "execution_count": 50,
     "metadata": {},
     "output_type": "execute_result"
    }
   ],
   "source": [
    "str(3)"
   ]
  },
  {
   "cell_type": "code",
   "execution_count": 51,
   "metadata": {},
   "outputs": [],
   "source": [
    "make_file()"
   ]
  },
  {
   "cell_type": "code",
   "execution_count": 53,
   "metadata": {},
   "outputs": [
    {
     "data": {
      "text/plain": [
       "'-0.117302\\n'"
      ]
     },
     "execution_count": 53,
     "metadata": {},
     "output_type": "execute_result"
    }
   ],
   "source": [
    "random_value(-1,1)"
   ]
  },
  {
   "cell_type": "code",
   "execution_count": null,
   "metadata": {},
   "outputs": [],
   "source": []
  }
 ],
 "metadata": {
  "kernelspec": {
   "display_name": "Python 3",
   "language": "python",
   "name": "python3"
  },
  "language_info": {
   "codemirror_mode": {
    "name": "ipython",
    "version": 3
   },
   "file_extension": ".py",
   "mimetype": "text/x-python",
   "name": "python",
   "nbconvert_exporter": "python",
   "pygments_lexer": "ipython3",
   "version": "3.7.5"
  }
 },
 "nbformat": 4,
 "nbformat_minor": 2
}
