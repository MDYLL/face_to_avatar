{
 "cells": [
  {
   "cell_type": "code",
   "execution_count": 37,
   "metadata": {},
   "outputs": [],
   "source": [
    "import numpy as np\n",
    "import random\n",
    "def random_value(a,b):\n",
    "    value=np.random.normal(a,b)\n",
    "    value_str=str(round(value,6))+'\\n'\n",
    "    return value_str"
   ]
  },
  {
   "cell_type": "code",
   "execution_count": 38,
   "metadata": {},
   "outputs": [],
   "source": [
    "with open('C:\\\\Users\\\\User\\\\itseez3d\\\\test\\\\test_default_wo_neck.mhm','r') as file:\n",
    "    a='0'\n",
    "    while(a[:8]!='modifier'):\n",
    "        a=file.readline()\n",
    "    features=[]\n",
    "    while(a[:8]=='modifier'):\n",
    "        s=a.split()\n",
    "        features.append(s[0]+' '+s[1]+' ')\n",
    "        a=file.readline()\n",
    "features.sort()"
   ]
  },
  {
   "cell_type": "code",
   "execution_count": 56,
   "metadata": {},
   "outputs": [],
   "source": [
    "def make_file(i=0,default_name='C:\\\\makehuman\\\\test'):\n",
    "    file_name=default_name+str(i)+'.mhm'\n",
    "    with open(file_name,'w') as file:\n",
    "        file.write('# Written by MakeHuman 1.1.1\\n')\n",
    "        file.write('version v1.1.1\\n')\n",
    "        file.write('tags '+file_name[:-4]+'\\n')\n",
    "        file.write('camera 0.0 0.0 -0.0369262062118 0.840906388327 0.0159877435893 3.125\\n')\n",
    "\n",
    "        for feature in features:\n",
    "            if 'macrodetails-height/Height' in feature:\n",
    "                file.write(feature+'1.000000'+'\\n')\n",
    "                continue\n",
    "            if 'macrodetails/Age' in feature:\n",
    "                file.write(feature+str(random.uniform(0.4,1))+'\\n')\n",
    "                continue\n",
    "            if 'macrodetails/Gender' in feature:\n",
    "                file.write(feature+str(random.uniform(0,1))+'\\n')\n",
    "            if 'l-' in feature:\n",
    "                value_left=round(np.random.normal(0,0.3),6)\n",
    "                value_right=round(value_left+random.uniform(-0.03,0.03),6)\n",
    "                feature_right=feature.replace('l-','r-')\n",
    "                file.write(feature+str(value_left)+'\\n')\n",
    "                file.write(feature_right+str(value_right)+'\\n')\n",
    "                continue\n",
    "            if 'r-' in feature:\n",
    "                continue\n",
    "            if '|' in feature:\n",
    "                file.write(feature+random_value(0,0.3))\n",
    "            else:\n",
    "                file.write(feature+random_value(0.5,0.2))\n",
    "        file.write('eyes HighPolyEyes 2c12f43b-1303-432c-b7ce-d78346baf2e6\\n')\n",
    "        file.write('clothesHideFaces True\\n')\n",
    "        file.write('skinMaterial skins/default.mhmat\\n')\n",
    "        file.write('material HighPolyEyes 2c12f43b-1303-432c-b7ce-d78346baf2e6 eyes/materials/brown.mhmat\\n')\n",
    "        file.write('subdivide False\\n')\n",
    "        \n",
    "        "
   ]
  },
  {
   "cell_type": "code",
   "execution_count": 57,
   "metadata": {},
   "outputs": [],
   "source": [
    "make_file()"
   ]
  },
  {
   "cell_type": "code",
   "execution_count": 59,
   "metadata": {},
   "outputs": [],
   "source": [
    "for i in range(2000,3000):\n",
    "    make_file(i=i)"
   ]
  },
  {
   "cell_type": "code",
   "execution_count": 35,
   "metadata": {},
   "outputs": [],
   "source": [
    "import numpy as np\n",
    "a=np.random.normal(0,0.1,1000000)"
   ]
  },
  {
   "cell_type": "code",
   "execution_count": 36,
   "metadata": {},
   "outputs": [
    {
     "data": {
      "text/plain": [
       "(-1.7307212682474607e-05, -0.4672111703729385, 0.4947331238128261)"
      ]
     },
     "execution_count": 36,
     "metadata": {},
     "output_type": "execute_result"
    }
   ],
   "source": [
    "a.mean(),a.min(),a.max()"
   ]
  },
  {
   "cell_type": "code",
   "execution_count": null,
   "metadata": {},
   "outputs": [],
   "source": []
  }
 ],
 "metadata": {
  "kernelspec": {
   "display_name": "Python 3",
   "language": "python",
   "name": "python3"
  },
  "language_info": {
   "codemirror_mode": {
    "name": "ipython",
    "version": 3
   },
   "file_extension": ".py",
   "mimetype": "text/x-python",
   "name": "python",
   "nbconvert_exporter": "python",
   "pygments_lexer": "ipython3",
   "version": "3.7.5"
  }
 },
 "nbformat": 4,
 "nbformat_minor": 2
}
